{
 "cells": [
  {
   "cell_type": "code",
   "execution_count": 1,
   "id": "ee813201",
   "metadata": {},
   "outputs": [],
   "source": [
    "import os\n",
    "import mne\n",
    "import numpy as np\n",
    "import joblib\n",
    "from scipy import stats\n",
    "from tensorflow.keras.models import load_model\n",
    "from sklearn.preprocessing import StandardScaler\n",
    "from sklearn.metrics import accuracy_score, f1_score, cohen_kappa_score, classification_report, confusion_matrix\n",
    "import matplotlib.pyplot as plt"
   ]
  },
  {
   "cell_type": "code",
   "execution_count": 2,
   "id": "8c7d7fd1",
   "metadata": {},
   "outputs": [],
   "source": [
    "def load_sleep_data(data_dir):                                              # Sleep-EDF icin veri setini yukluyoruz.\n",
    "    file_pairs = []\n",
    "    \n",
    "    for f in os.listdir(data_dir):                                          # Dosya eslestirme islemi yapiyoruz.\n",
    "        if f.endswith('0-PSG.edf'):\n",
    "            hyp_file = f.replace('0-PSG.edf', 'C-Hypnogram.edf')\n",
    "            if os.path.exists(os.path.join(data_dir, hyp_file)):            # Ayni konuya ait PSG ve Hypnogram dosyalarini eslestiriyoruz.\n",
    "                file_pairs.append((                                         # PSG dosyasi sinyalleri tutar ve Hypnogram dosyasi labellari tutar.\n",
    "                    os.path.join(data_dir, f),\n",
    "                    os.path.join(data_dir, hyp_file)\n",
    "                ))\n",
    "    \n",
    "    print(f\"Bulunan PSG-Hypnogram çiftleri: {len(file_pairs)}\")\n",
    "    return file_pairs"
   ]
  },
  {
   "cell_type": "code",
   "execution_count": 3,
   "id": "7a3886e6",
   "metadata": {},
   "outputs": [],
   "source": [
    "from scipy.signal import find_peaks, welch\n",
    "from scipy.stats import entropy, kurtosis, skew, iqr\n",
    "\n",
    "def bandpower(psd, freqs, fmin, fmax):\n",
    "    idx_band = np.logical_and(freqs >= fmin, freqs <= fmax)\n",
    "    return np.sum(psd[idx_band])\n",
    "\n",
    "def extract_features_multi(data, sfreq, n_fft_comp=5):\n",
    "    feature_list = []\n",
    "    count = 0\n",
    "    \n",
    "    # Zaman serisinde ozellik cikarimi yapiyorum. Buradaki ozniteliklerin cogunu TSFEL: Time Series Feature Extraction Library makalesinden aldim.\n",
    "\n",
    "    for epoch in data:\n",
    "        feats = []\n",
    "        for ch_signal in epoch:\n",
    "            t = np.arange(len(ch_signal))\n",
    "            abs_energy = np.sum(ch_signal**2)                                                           # Sinyalin toplam enerjisi, guc olcusu\n",
    "            area_curve = np.trapz(ch_signal)                                                            # Egri alti alan, sinyalin integraline benzer toplam degeri\n",
    "            \n",
    "            autocorr = np.corrcoef(ch_signal[:-1], ch_signal[1:])[0, 1] if np.std(ch_signal) > 0 else 0 # Sinyalin kendisiyle bir gecikmeyle olan korelasyonu\n",
    "            \n",
    "            avg_power = np.mean(ch_signal**2)                                                           # Ortalama guc\n",
    "            centroid = np.sum(t * np.abs(ch_signal)) / (np.sum(np.abs(ch_signal)) + 1e-12)              # Sinyal agirlik merkezi\n",
    "            \n",
    "            hist, _ = np.histogram(ch_signal, bins=10, density=True)\n",
    "            hist_entropy = entropy(hist + 1e-12)                                                        # Sinyal genlik dagiliminin duzensizligi\n",
    "            \n",
    "            freqs, psd = welch(ch_signal, sfreq, nperseg=min(256, len(ch_signal)))\n",
    "            psd /= np.sum(psd) + 1e-12                                                                  # Frekanslara gore enerji dagilimi\n",
    "            \n",
    "            fund_freq = freqs[np.argmax(psd)] if len(psd) > 0 else 0                                    # En yuksek guce sahip frekans bileşeni\n",
    "            \n",
    "            hist_vals, hist_bins = np.histogram(ch_signal, bins=10)\n",
    "            hist_mode = hist_bins[np.argmax(hist_vals)]                                                 # En cok gorulen genlik degeri\n",
    "            \n",
    "            human_energy = np.sum(psd[(freqs >= 0.5) & (freqs <= 40)])                                  # Insan EEG bandindaki enerji\n",
    "            iqr_val = iqr(ch_signal)                                                                    # Sinyalin orta %50'sinin yayilimi\n",
    "            kurt_val = kurtosis(ch_signal)                                                              # Carpiklik, uc deger yogunlugu\n",
    "            \n",
    "            max_val = np.max(ch_signal)                                                                 # Maksimum deger\n",
    "            max_psd = np.max(psd)                                                                       # Maksimum guc\n",
    "            max_freq = freqs[-1]                                                                        # En yuksek olculebilir frekans\n",
    "            \n",
    "            mean_val = np.mean(ch_signal)                                                               # Ortalama deger\n",
    "            mad = np.mean(np.abs(ch_signal - mean_val))                                                 # Ortalama mutlak sapma\n",
    "            mean_abs_diff = np.mean(np.abs(np.diff(ch_signal)))                                         # Komşu ornekler arasindaki ortalama mutlak fark\n",
    "            mean_diff = np.mean(np.diff(ch_signal))                                                     # Komşu ornekler arasindaki ortalama fark\n",
    "            \n",
    "            med_val = np.median(ch_signal)                                                              # Medyan deger\n",
    "            med_abs_dev = np.median(np.abs(ch_signal - med_val))                                        # Medyan mutlak sapma\n",
    "            med_abs_diff = np.median(np.abs(np.diff(ch_signal)))                                        # Medyan komşu mutlak farki\n",
    "            med_diff = np.median(np.diff(ch_signal))                                                    # Medyan komşu farki\n",
    "            cumulative_power = np.cumsum(psd)\n",
    "            med_freq = freqs[np.argmax(cumulative_power >= 0.5)] if len(psd) > 0 else 0                 # Medyan frekans\n",
    "            \n",
    "            min_val = np.min(ch_signal)                                                                 # Minimum deger\n",
    "            \n",
    "            diff_signal = np.diff(ch_signal)\n",
    "            sign_changes = np.diff(np.sign(diff_signal))\n",
    "            neg_turning = np.sum(sign_changes > 0)                                                      # Negatif egimden pozitif egime geciş sayisi\n",
    "            pos_turning = np.sum(sign_changes < 0)                                                      # Pozitif egimden negatif egime geciş sayisi\n",
    "            peaks, _ = find_peaks(ch_signal)\n",
    "            n_peaks = len(peaks)                                                                        # Tepe sayisi\n",
    "            peak_dist = np.mean(np.diff(peaks)) if n_peaks > 1 else 0                                   # Tepeler arasi ortalama mesafe\n",
    "            \n",
    "            if len(psd) > 0:\n",
    "                peak_psd = np.max(psd)\n",
    "                mask = psd >= (peak_psd / 2)\n",
    "                try:\n",
    "                    power_bandwidth = freqs[mask][-1] - freqs[mask][0]                                  # Gucun %50'sinden fazlasini iceren frekans araligi\n",
    "                except:\n",
    "                    power_bandwidth = 0\n",
    "            else:\n",
    "                power_bandwidth = 0\n",
    "                \n",
    "            rms = np.sqrt(avg_power)                                                                    \n",
    "            signal_dist = np.sum(np.abs(ch_signal))                                                     # Mutlak genlik toplami\n",
    "            skew_val = skew(ch_signal)                                                                  # Simetri olcusu\n",
    "            slope = np.polyfit(t, ch_signal, 1)[0]                                                      # Lineer egim, trend\n",
    "            \n",
    "            spec_centroid = np.sum(freqs * psd) / (np.sum(psd) + 1e-12)                                 # Spektral agirlik merkezi\n",
    "            spec_decrease = np.sum((psd[1:] - psd[0]) / np.arange(1, len(psd))) / (np.sum(psd[1:]) + 1e-12) if len(psd) > 1 else 0   # Yuksek frekanslardaki guc kaybi\n",
    "            spec_ent = entropy(psd + 1e-12)                                                             # Spektral entropi\n",
    "            spec_kurt = kurtosis(psd)                                                                   # Spektral carpiklik\n",
    "            diff_psd = np.diff(psd)\n",
    "            psd_sign_changes = np.diff(np.sign(diff_psd))\n",
    "            spec_pos_turning = np.sum(psd_sign_changes < 0)                                             # Spektral donuş noktasi sayisi\n",
    "            spec_roll_off = freqs[np.argmax(cumulative_power >= 0.85)] if len(psd) > 0 else 0           # Enerjinin %85'ine ulaşilan frekans\n",
    "            spec_roll_on = freqs[np.argmax(cumulative_power >= 0.05)] if len(psd) > 0 else 0            # Enerjinin %5'ine ulaşilan frekans\n",
    "            spec_skew = skew(psd)                                                                       # Spektral skewness\n",
    "            spec_slope = np.polyfit(freqs, psd, 1)[0] if len(psd) > 1 else 0                            # Spektral egim\n",
    "            spec_spread = np.sqrt(np.sum(psd * (freqs - spec_centroid)**2) / (np.sum(psd) + 1e-12))     # Spektral yayilma\n",
    "            \n",
    "            std = np.std(ch_signal)                                                                     # Standart sapma\n",
    "            sum_abs_diff = np.sum(np.abs(np.diff(ch_signal)))                                           # Ornekler arasi toplam fark\n",
    "            var = np.var(ch_signal)                                                                     # Varyans\n",
    "            \n",
    "            zero_crossings = np.sum(np.diff(np.sign(ch_signal)) != 0)\n",
    "            zcr = zero_crossings / len(ch_signal)                                                       # Sinyalin kac kez sifiri gectigi\n",
    "\n",
    "            bp_delta = bandpower(psd, freqs, 0.5, 4)                                                    # Bant güçleri (delta: 0.5–4Hz, theta: 4–8Hz, alpha: 8–13Hz, beta: 13–30Hz, gamma: 30–40Hz)\n",
    "            bp_theta = bandpower(psd, freqs, 4, 8)\n",
    "            bp_alpha = bandpower(psd, freqs, 8, 13)\n",
    "            bp_beta  = bandpower(psd, freqs, 13, 30)\n",
    "            bp_gamma = bandpower(psd, freqs, 30, 40)\n",
    "            \n",
    "            fft_vals = np.fft.rfft(ch_signal)                                                           # FFT bileşenleri (en büyük n_fft_comp genlik)\n",
    "            fft_power = np.abs(fft_vals)\n",
    "            top_fft_indices = np.argsort(fft_power)[-n_fft_comp:][::-1]\n",
    "            top_fft_components = fft_power[top_fft_indices]\n",
    "\n",
    "            features = [\n",
    "                abs_energy, area_curve, autocorr, avg_power, centroid, hist_entropy,\n",
    "                fund_freq, hist_mode, human_energy, iqr_val, kurt_val, max_val,\n",
    "                bp_delta, bp_theta, bp_alpha, bp_beta, bp_gamma, *top_fft_components,\n",
    "                max_psd, max_freq, mean_val, mad, mean_abs_diff, mean_diff, med_val,\n",
    "                med_abs_dev, med_abs_diff, med_diff, med_freq, min_val, neg_turning,\n",
    "                n_peaks, peak_dist, pos_turning, power_bandwidth, rms, signal_dist,\n",
    "                skew_val, slope, spec_centroid, spec_decrease, spec_ent,\n",
    "                spec_kurt, spec_pos_turning, spec_roll_off, spec_roll_on, spec_skew,\n",
    "                spec_slope, spec_spread, std, sum_abs_diff, var, zcr\n",
    "            ]\n",
    "            \n",
    "            feats.extend(features)\n",
    "            \n",
    "        feature_list.append(feats)\n",
    "        count += 1\n",
    "        \n",
    "    print(f\"Özellik çıkarımı için toplam {count} epoch işlendi.\")\n",
    "    return np.array(feature_list)"
   ]
  },
  {
   "cell_type": "code",
   "execution_count": 4,
   "id": "fc458be0",
   "metadata": {},
   "outputs": [],
   "source": [
    "def create_sequences(data, labels, seq_length=10):                                                      # Zaman serisi verileri olusturuyorum.\n",
    "    X, y = [], []\n",
    "    for i in range(len(data) - seq_length):\n",
    "        X.append(data[i:i+seq_length])\n",
    "        y.append(labels[i+seq_length-1])\n",
    "    return np.array(X), np.array(y)"
   ]
  },
  {
   "cell_type": "code",
   "execution_count": 5,
   "id": "21d150dd",
   "metadata": {},
   "outputs": [],
   "source": [
    "\n",
    "def create_dataset(file_pairs, epoch_duration=30.0, seq_length=10):\n",
    "    base_event_id = {\n",
    "        'Sleep stage W': 0, 'Sleep stage 1': 1, 'Sleep stage 2': 2,\n",
    "        'Sleep stage 3': 3, 'Sleep stage 4': 3, 'Sleep stage R': 4\n",
    "    }\n",
    "    all_sequences = []\n",
    "    all_labels = []\n",
    "    \n",
    "    for psg_file, hyp_file in file_pairs:                                                               # Her PSG-Hypnogram dosya cifti icin yukleme dongusu\n",
    "        raw = mne.io.read_raw_edf(psg_file, preload=True, verbose=False)\n",
    "        annots = mne.read_annotations(hyp_file)\n",
    "        raw.set_annotations(annots, emit_warning=False)\n",
    "\n",
    "        descs = set(str(d) for d in annots.description)                                                 # O anda bulunan descriptionlari aliyorum.\n",
    "        event_id = {k: v for k, v in base_event_id.items() if k in descs}                               # Sadece dosyada olanları event_id'ye aliyorum.\n",
    "        if not event_id:\n",
    "            continue\n",
    "\n",
    "        events, _ = mne.events_from_annotations(                                                        # Anotasyonlardan epoch eventlerini olusturuyorum.\n",
    "            raw, event_id=event_id, chunk_duration=epoch_duration\n",
    "        )\n",
    "        if len(events) == 0:\n",
    "            continue\n",
    "\n",
    "        epochs = mne.Epochs(\n",
    "            raw, events, event_id=event_id,\n",
    "            tmin=0.0, tmax=epoch_duration - 1/raw.info['sfreq'],                                        # Her epochun sonu \n",
    "            baseline=None, preload=True\n",
    "        )\n",
    "        data = epochs.get_data()\n",
    "        feats = extract_features_multi(data, raw.info['sfreq'])                                         # Her epoch icin ozellik cikariyorum ve ozellikleri ve etiketleri listeye ekliyorum.\n",
    "        labels = epochs.events[:, -1]\n",
    "        \n",
    "        sequences, seq_labels = create_sequences(feats, labels, seq_length)                             # Zaman serisi olusturuyorum.\n",
    "        if len(sequences) > 0:\n",
    "            all_sequences.append(sequences)\n",
    "            all_labels.append(seq_labels)\n",
    "    \n",
    "    X = np.vstack(all_sequences) if all_sequences else np.array([])                                     # Tum dosyalarin ozelliklerini ve etiketlerini birlestiriyorum.\n",
    "    y = np.hstack(all_labels) if all_labels else np.array([])\n",
    "    return X, y"
   ]
  },
  {
   "cell_type": "code",
   "execution_count": 6,
   "id": "f2bf6749",
   "metadata": {},
   "outputs": [
    {
     "name": "stdout",
     "output_type": "stream",
     "text": [
      "Bulunan PSG-Hypnogram çiftleri: 5\n"
     ]
    },
    {
     "name": "stderr",
     "output_type": "stream",
     "text": [
      "C:\\Users\\EgeTERZI\\AppData\\Local\\Temp\\ipykernel_8008\\803434448.py:10: RuntimeWarning: Channels contain different highpass filters. Highest filter setting will be stored.\n",
      "  raw = mne.io.read_raw_edf(psg_file, preload=True, verbose=False)\n",
      "C:\\Users\\EgeTERZI\\AppData\\Local\\Temp\\ipykernel_8008\\803434448.py:10: RuntimeWarning: Channels contain different lowpass filters. Lowest filter setting will be stored.\n",
      "  raw = mne.io.read_raw_edf(psg_file, preload=True, verbose=False)\n",
      "C:\\Users\\EgeTERZI\\AppData\\Local\\Temp\\ipykernel_8008\\803434448.py:10: RuntimeWarning: Highpass cutoff frequency 16.0 is greater than lowpass cutoff frequency 0.7, setting values to 0 and Nyquist.\n",
      "  raw = mne.io.read_raw_edf(psg_file, preload=True, verbose=False)\n"
     ]
    },
    {
     "name": "stdout",
     "output_type": "stream",
     "text": [
      "Used Annotations descriptions: [np.str_('Sleep stage 1'), np.str_('Sleep stage 2'), np.str_('Sleep stage 3'), np.str_('Sleep stage R'), np.str_('Sleep stage W')]\n",
      "Not setting metadata\n",
      "2857 matching events found\n",
      "No baseline correction applied\n",
      "0 projection items activated\n",
      "Using data from preloaded Raw for 2857 events and 3000 original time points ...\n",
      "0 bad epochs dropped\n"
     ]
    },
    {
     "name": "stderr",
     "output_type": "stream",
     "text": [
      "C:\\Users\\EgeTERZI\\AppData\\Local\\Temp\\ipykernel_8008\\571596984.py:19: DeprecationWarning: `trapz` is deprecated. Use `trapezoid` instead, or one of the numerical integration functions in `scipy.integrate`.\n",
      "  area_curve = np.trapz(ch_signal)                                                            # Egri alti alan, sinyalin integraline benzer toplam degeri\n"
     ]
    },
    {
     "name": "stdout",
     "output_type": "stream",
     "text": [
      "Özellik çıkarımı için toplam 2857 epoch işlendi.\n"
     ]
    },
    {
     "name": "stderr",
     "output_type": "stream",
     "text": [
      "C:\\Users\\EgeTERZI\\AppData\\Local\\Temp\\ipykernel_8008\\803434448.py:10: RuntimeWarning: Channels contain different highpass filters. Highest filter setting will be stored.\n",
      "  raw = mne.io.read_raw_edf(psg_file, preload=True, verbose=False)\n",
      "C:\\Users\\EgeTERZI\\AppData\\Local\\Temp\\ipykernel_8008\\803434448.py:10: RuntimeWarning: Channels contain different lowpass filters. Lowest filter setting will be stored.\n",
      "  raw = mne.io.read_raw_edf(psg_file, preload=True, verbose=False)\n",
      "C:\\Users\\EgeTERZI\\AppData\\Local\\Temp\\ipykernel_8008\\803434448.py:10: RuntimeWarning: Highpass cutoff frequency 16.0 is greater than lowpass cutoff frequency 0.7, setting values to 0 and Nyquist.\n",
      "  raw = mne.io.read_raw_edf(psg_file, preload=True, verbose=False)\n"
     ]
    },
    {
     "name": "stdout",
     "output_type": "stream",
     "text": [
      "Used Annotations descriptions: [np.str_('Sleep stage 1'), np.str_('Sleep stage 2'), np.str_('Sleep stage 3'), np.str_('Sleep stage 4'), np.str_('Sleep stage R'), np.str_('Sleep stage W')]\n",
      "Not setting metadata\n",
      "2641 matching events found\n",
      "No baseline correction applied\n",
      "0 projection items activated\n",
      "Using data from preloaded Raw for 2641 events and 3000 original time points ...\n",
      "0 bad epochs dropped\n"
     ]
    },
    {
     "name": "stderr",
     "output_type": "stream",
     "text": [
      "C:\\Users\\EgeTERZI\\AppData\\Local\\Temp\\ipykernel_8008\\571596984.py:19: DeprecationWarning: `trapz` is deprecated. Use `trapezoid` instead, or one of the numerical integration functions in `scipy.integrate`.\n",
      "  area_curve = np.trapz(ch_signal)                                                            # Egri alti alan, sinyalin integraline benzer toplam degeri\n"
     ]
    },
    {
     "name": "stdout",
     "output_type": "stream",
     "text": [
      "Özellik çıkarımı için toplam 2641 epoch işlendi.\n"
     ]
    },
    {
     "name": "stderr",
     "output_type": "stream",
     "text": [
      "C:\\Users\\EgeTERZI\\AppData\\Local\\Temp\\ipykernel_8008\\803434448.py:10: RuntimeWarning: Channels contain different highpass filters. Highest filter setting will be stored.\n",
      "  raw = mne.io.read_raw_edf(psg_file, preload=True, verbose=False)\n",
      "C:\\Users\\EgeTERZI\\AppData\\Local\\Temp\\ipykernel_8008\\803434448.py:10: RuntimeWarning: Channels contain different lowpass filters. Lowest filter setting will be stored.\n",
      "  raw = mne.io.read_raw_edf(psg_file, preload=True, verbose=False)\n",
      "C:\\Users\\EgeTERZI\\AppData\\Local\\Temp\\ipykernel_8008\\803434448.py:10: RuntimeWarning: Highpass cutoff frequency 16.0 is greater than lowpass cutoff frequency 0.7, setting values to 0 and Nyquist.\n",
      "  raw = mne.io.read_raw_edf(psg_file, preload=True, verbose=False)\n"
     ]
    },
    {
     "name": "stdout",
     "output_type": "stream",
     "text": [
      "Used Annotations descriptions: [np.str_('Sleep stage 1'), np.str_('Sleep stage 2'), np.str_('Sleep stage 3'), np.str_('Sleep stage 4'), np.str_('Sleep stage R'), np.str_('Sleep stage W')]\n",
      "Not setting metadata\n",
      "2780 matching events found\n",
      "No baseline correction applied\n",
      "0 projection items activated\n",
      "Using data from preloaded Raw for 2780 events and 3000 original time points ...\n",
      "0 bad epochs dropped\n"
     ]
    },
    {
     "name": "stderr",
     "output_type": "stream",
     "text": [
      "C:\\Users\\EgeTERZI\\AppData\\Local\\Temp\\ipykernel_8008\\571596984.py:19: DeprecationWarning: `trapz` is deprecated. Use `trapezoid` instead, or one of the numerical integration functions in `scipy.integrate`.\n",
      "  area_curve = np.trapz(ch_signal)                                                            # Egri alti alan, sinyalin integraline benzer toplam degeri\n"
     ]
    },
    {
     "name": "stdout",
     "output_type": "stream",
     "text": [
      "Özellik çıkarımı için toplam 2780 epoch işlendi.\n"
     ]
    },
    {
     "name": "stderr",
     "output_type": "stream",
     "text": [
      "C:\\Users\\EgeTERZI\\AppData\\Local\\Temp\\ipykernel_8008\\803434448.py:10: RuntimeWarning: Channels contain different highpass filters. Highest filter setting will be stored.\n",
      "  raw = mne.io.read_raw_edf(psg_file, preload=True, verbose=False)\n",
      "C:\\Users\\EgeTERZI\\AppData\\Local\\Temp\\ipykernel_8008\\803434448.py:10: RuntimeWarning: Channels contain different lowpass filters. Lowest filter setting will be stored.\n",
      "  raw = mne.io.read_raw_edf(psg_file, preload=True, verbose=False)\n",
      "C:\\Users\\EgeTERZI\\AppData\\Local\\Temp\\ipykernel_8008\\803434448.py:10: RuntimeWarning: Highpass cutoff frequency 16.0 is greater than lowpass cutoff frequency 0.7, setting values to 0 and Nyquist.\n",
      "  raw = mne.io.read_raw_edf(psg_file, preload=True, verbose=False)\n"
     ]
    },
    {
     "name": "stdout",
     "output_type": "stream",
     "text": [
      "Used Annotations descriptions: [np.str_('Sleep stage 1'), np.str_('Sleep stage 2'), np.str_('Sleep stage 3'), np.str_('Sleep stage 4'), np.str_('Sleep stage R'), np.str_('Sleep stage W')]\n",
      "Not setting metadata\n",
      "2685 matching events found\n",
      "No baseline correction applied\n",
      "0 projection items activated\n",
      "Using data from preloaded Raw for 2685 events and 3000 original time points ...\n",
      "0 bad epochs dropped\n"
     ]
    },
    {
     "name": "stderr",
     "output_type": "stream",
     "text": [
      "C:\\Users\\EgeTERZI\\AppData\\Local\\Temp\\ipykernel_8008\\571596984.py:19: DeprecationWarning: `trapz` is deprecated. Use `trapezoid` instead, or one of the numerical integration functions in `scipy.integrate`.\n",
      "  area_curve = np.trapz(ch_signal)                                                            # Egri alti alan, sinyalin integraline benzer toplam degeri\n"
     ]
    },
    {
     "name": "stdout",
     "output_type": "stream",
     "text": [
      "Özellik çıkarımı için toplam 2685 epoch işlendi.\n"
     ]
    },
    {
     "name": "stderr",
     "output_type": "stream",
     "text": [
      "C:\\Users\\EgeTERZI\\AppData\\Local\\Temp\\ipykernel_8008\\803434448.py:10: RuntimeWarning: Channels contain different highpass filters. Highest filter setting will be stored.\n",
      "  raw = mne.io.read_raw_edf(psg_file, preload=True, verbose=False)\n",
      "C:\\Users\\EgeTERZI\\AppData\\Local\\Temp\\ipykernel_8008\\803434448.py:10: RuntimeWarning: Channels contain different lowpass filters. Lowest filter setting will be stored.\n",
      "  raw = mne.io.read_raw_edf(psg_file, preload=True, verbose=False)\n",
      "C:\\Users\\EgeTERZI\\AppData\\Local\\Temp\\ipykernel_8008\\803434448.py:10: RuntimeWarning: Highpass cutoff frequency 16.0 is greater than lowpass cutoff frequency 0.7, setting values to 0 and Nyquist.\n",
      "  raw = mne.io.read_raw_edf(psg_file, preload=True, verbose=False)\n"
     ]
    },
    {
     "name": "stdout",
     "output_type": "stream",
     "text": [
      "Used Annotations descriptions: [np.str_('Sleep stage 1'), np.str_('Sleep stage 2'), np.str_('Sleep stage 3'), np.str_('Sleep stage 4'), np.str_('Sleep stage R'), np.str_('Sleep stage W')]\n",
      "Not setting metadata\n",
      "2814 matching events found\n",
      "No baseline correction applied\n",
      "0 projection items activated\n",
      "Using data from preloaded Raw for 2814 events and 3000 original time points ...\n",
      "0 bad epochs dropped\n"
     ]
    },
    {
     "name": "stderr",
     "output_type": "stream",
     "text": [
      "C:\\Users\\EgeTERZI\\AppData\\Local\\Temp\\ipykernel_8008\\571596984.py:19: DeprecationWarning: `trapz` is deprecated. Use `trapezoid` instead, or one of the numerical integration functions in `scipy.integrate`.\n",
      "  area_curve = np.trapz(ch_signal)                                                            # Egri alti alan, sinyalin integraline benzer toplam degeri\n"
     ]
    },
    {
     "name": "stdout",
     "output_type": "stream",
     "text": [
      "Özellik çıkarımı için toplam 2814 epoch işlendi.\n",
      "X_test shape: (13727, 10, 399) y_test shape: (13727,)\n"
     ]
    },
    {
     "name": "stderr",
     "output_type": "stream",
     "text": [
      "WARNING:absl:Compiled the loaded model, but the compiled metrics have yet to be built. `model.compile_metrics` will be empty until you train or evaluate the model.\n"
     ]
    },
    {
     "name": "stdout",
     "output_type": "stream",
     "text": [
      "Test verisi boyut (özellik seçimi sonrası): (13727, 10, 175)\n"
     ]
    },
    {
     "name": "stderr",
     "output_type": "stream",
     "text": [
      "WARNING:absl:Compiled the loaded model, but the compiled metrics have yet to be built. `model.compile_metrics` will be empty until you train or evaluate the model.\n",
      "WARNING:absl:Compiled the loaded model, but the compiled metrics have yet to be built. `model.compile_metrics` will be empty until you train or evaluate the model.\n"
     ]
    },
    {
     "name": "stdout",
     "output_type": "stream",
     "text": [
      "\u001b[1m429/429\u001b[0m \u001b[32m━━━━━━━━━━━━━━━━━━━━\u001b[0m\u001b[37m\u001b[0m \u001b[1m1s\u001b[0m 3ms/step\n",
      "\n",
      "RNN Performans:\n",
      "Accuracy: 0.5215\n",
      "Macro F1: 0.4322\n",
      "Cohen's Kappa: 0.3309\n",
      "Sınıflandırma Raporu:\n",
      "              precision    recall  f1-score   support\n",
      "\n",
      "        Wake       0.97      0.41      0.58      9552\n",
      "          N1       0.08      0.38      0.13       253\n",
      "          N2       0.42      0.84      0.56      2465\n",
      "          N3       0.19      0.81      0.31       519\n",
      "         REM       0.51      0.70      0.59       938\n",
      "\n",
      "    accuracy                           0.52     13727\n",
      "   macro avg       0.43      0.63      0.43     13727\n",
      "weighted avg       0.79      0.52      0.56     13727\n",
      "\n"
     ]
    },
    {
     "data": {
      "image/png": "[encoded data removed]",
      "text/plain": [
       "<Figure size 800x600 with 2 Axes>"
      ]
     },
     "metadata": {},
     "output_type": "display_data"
    },
    {
     "name": "stdout",
     "output_type": "stream",
     "text": [
      "\u001b[1m429/429\u001b[0m \u001b[32m━━━━━━━━━━━━━━━━━━━━\u001b[0m\u001b[37m\u001b[0m \u001b[1m3s\u001b[0m 6ms/step\n",
      "\n",
      "LSTM Performans:\n",
      "Accuracy: 0.7699\n",
      "Macro F1: 0.5888\n",
      "Cohen's Kappa: 0.5816\n",
      "Sınıflandırma Raporu:\n",
      "              precision    recall  f1-score   support\n",
      "\n",
      "        Wake       0.96      0.79      0.86      9552\n",
      "          N1       0.19      0.40      0.25       253\n",
      "          N2       0.57      0.81      0.67      2465\n",
      "          N3       0.39      0.88      0.54       519\n",
      "         REM       0.71      0.54      0.61       938\n",
      "\n",
      "    accuracy                           0.77     13727\n",
      "   macro avg       0.56      0.68      0.59     13727\n",
      "weighted avg       0.84      0.77      0.79     13727\n",
      "\n"
     ]
    },
    {
     "data": {
      "image/png": "[encoded data removed]",
      "text/plain": [
       "<Figure size 800x600 with 2 Axes>"
      ]
     },
     "metadata": {},
     "output_type": "display_data"
    },
    {
     "name": "stdout",
     "output_type": "stream",
     "text": [
      "\u001b[1m429/429\u001b[0m \u001b[32m━━━━━━━━━━━━━━━━━━━━\u001b[0m\u001b[37m\u001b[0m \u001b[1m3s\u001b[0m 5ms/step\n",
      "\n",
      "GRU Performans:\n",
      "Accuracy: 0.8275\n",
      "Macro F1: 0.6193\n",
      "Cohen's Kappa: 0.6676\n",
      "Sınıflandırma Raporu:\n",
      "              precision    recall  f1-score   support\n",
      "\n",
      "        Wake       0.98      0.87      0.92      9552\n",
      "          N1       0.29      0.23      0.26       253\n",
      "          N2       0.60      0.84      0.70      2465\n",
      "          N3       0.40      0.86      0.55       519\n",
      "         REM       0.97      0.51      0.67       938\n",
      "\n",
      "    accuracy                           0.83     13727\n",
      "   macro avg       0.65      0.66      0.62     13727\n",
      "weighted avg       0.88      0.83      0.84     13727\n",
      "\n"
     ]
    },
    {
     "data": {
      "image/png": "[encoded data removed]",
      "text/plain": [
       "<Figure size 800x600 with 2 Axes>"
      ]
     },
     "metadata": {},
     "output_type": "display_data"
    },
    {
     "name": "stdout",
     "output_type": "stream",
     "text": [
      "\u001b[1m429/429\u001b[0m \u001b[32m━━━━━━━━━━━━━━━━━━━━\u001b[0m\u001b[37m\u001b[0m \u001b[1m2s\u001b[0m 5ms/step\n",
      "\n",
      "Transformer Performans:\n",
      "Accuracy: 0.8768\n",
      "Macro F1: 0.6548\n",
      "Cohen's Kappa: 0.7401\n",
      "Sınıflandırma Raporu:\n",
      "              precision    recall  f1-score   support\n",
      "\n",
      "        Wake       0.96      0.96      0.96      9552\n",
      "          N1       0.25      0.38      0.30       253\n",
      "          N2       0.71      0.83      0.77      2465\n",
      "          N3       0.75      0.46      0.57       519\n",
      "         REM       0.86      0.56      0.68       938\n",
      "\n",
      "    accuracy                           0.88     13727\n",
      "   macro avg       0.71      0.64      0.65     13727\n",
      "weighted avg       0.89      0.88      0.88     13727\n",
      "\n"
     ]
    },
    {
     "data": {
      "image/png": "[encoded data removed]",
      "text/plain": [
       "<Figure size 800x600 with 2 Axes>"
      ]
     },
     "metadata": {},
     "output_type": "display_data"
    },
    {
     "name": "stdout",
     "output_type": "stream",
     "text": [
      "\n",
      "MODEL PERFORMANS KARŞILAŞTIRMASI:\n",
      "RNN: Accuracy=0.5215, F1=0.4322, Kappa=0.3309\n",
      "LSTM: Accuracy=0.7699, F1=0.5888, Kappa=0.5816\n",
      "GRU: Accuracy=0.8275, F1=0.6193, Kappa=0.6676\n",
      "Transformer: Accuracy=0.8768, F1=0.6548, Kappa=0.7401\n"
     ]
    }
   ],
   "source": [
    "def evaluate_model(y_true, y_pred, name):                                           # Temel metrikleri hesapliyorum\n",
    "    acc = accuracy_score(y_true, y_pred)                                            # Isabet\n",
    "    f1 = f1_score(y_true, y_pred, average='macro')                                  # f1 skoru\n",
    "    kappa = cohen_kappa_score(y_true, y_pred)                                       # Cohen Kappa skoru\n",
    "    \n",
    "    print(f\"\\n{name} Performans:\")\n",
    "    print(f\"Accuracy: {acc:.4f}\")\n",
    "    print(f\"Macro F1: {f1:.4f}\")\n",
    "    print(f\"Cohen's Kappa: {kappa:.4f}\")\n",
    "    print(\"Sınıflandırma Raporu:\")\n",
    "    print(classification_report(y_true, y_pred, target_names=['Wake', 'N1', 'N2', 'N3', 'REM']))\n",
    "    \n",
    "    cm = confusion_matrix(y_true, y_pred)                                           # Confusion matrix gosteriyorum.\n",
    "    plt.figure(figsize=(8, 6))\n",
    "    plt.imshow(cm, interpolation='nearest', cmap=plt.cm.Blues)\n",
    "    plt.title(f'{name} - Confusion Matrix')\n",
    "    plt.colorbar()\n",
    "    tick_marks = np.arange(5)\n",
    "    plt.xticks(tick_marks, ['Wake', 'N1', 'N2', 'N3', 'REM'])\n",
    "    plt.yticks(tick_marks, ['Wake', 'N1', 'N2', 'N3', 'REM'])\n",
    "    plt.ylabel('Gerçek')\n",
    "    plt.xlabel('Tahmin')\n",
    "    plt.show()\n",
    "    \n",
    "    return acc, f1, kappa\n",
    "\n",
    "\n",
    "def main():\n",
    "\n",
    "    DATA_DIR = \"./SleepData/Sleep_EDF_Testing_Data\"\n",
    "    SEQ_LENGTH = 10                                                                 # Egitimle ayni degeri kullaniyorum.\n",
    "    \n",
    "    file_pairs = load_sleep_data(DATA_DIR)                                          # Veriyi yukluyorum ve verisetini olusturuyorum.\n",
    "    X_test, y_test = create_dataset(file_pairs, epoch_duration=30.0, seq_length=SEQ_LENGTH)\n",
    "    \n",
    "    if len(X_test) == 0:\n",
    "        print(\"Test verisi bulunamadı!\")\n",
    "        return\n",
    "    \n",
    "    print(\"X_test shape:\", X_test.shape, \"y_test shape:\", y_test.shape)\n",
    "    \n",
    "\n",
    "    scaler = joblib.load('scaler.joblib')                                           # Veriyi olceklendiriyorum, ve secilmis K tane ozellige gore filtreliyorum.\n",
    "    selector = joblib.load('selector.joblib')\n",
    "    selected_indices = joblib.load('selected_indices.joblib')\n",
    "    n_samples, seq_len, n_features = X_test.shape\n",
    "    X_flat = X_test.reshape(-1, n_features)\n",
    "    X_flat_scaled = scaler.transform(X_flat)\n",
    "    X_scaled = X_flat_scaled.reshape(n_samples, seq_len, n_features)\n",
    "    \n",
    "    X_selected = X_scaled[:, :, selected_indices]\n",
    "    print(f\"Test verisi boyut (özellik seçimi sonrası): {X_selected.shape}\")\n",
    "\n",
    "\n",
    "    models = {                                                                      # Modelleri yukluyorum.\n",
    "        'RNN': load_model('rnn_model.h5'),\n",
    "        'LSTM': load_model('lstm_model.h5'),\n",
    "        'GRU': load_model('gru_model.h5'),\n",
    "        'Transformer': load_model('transformer_model.keras')\n",
    "    }\n",
    "    \n",
    "    results = {}\n",
    "    \n",
    "    for name, model in models.items():                                              # Her bir model icin tahmin ve degerlendirme yapiyorum.\n",
    "        y_pred = np.argmax(model.predict(X_selected), axis=1)\n",
    "        metrics = evaluate_model(y_test, y_pred, name)\n",
    "        results[name] = metrics\n",
    "    \n",
    "    print(\"\\nMODEL PERFORMANS KARŞILAŞTIRMASI:\")                                    # Performans karsilastirmasi yapiyorum.\n",
    "    for name, metrics in results.items():\n",
    "        print(f\"{name}: Accuracy={metrics[0]:.4f}, F1={metrics[1]:.4f}, Kappa={metrics[2]:.4f}\")\n",
    "\n",
    "if __name__ == \"__main__\":\n",
    "    main()"
   ]
  }
 ],
 "metadata": {
  "kernelspec": {
   "display_name": "Python 3",
   "language": "python",
   "name": "python3"
  },
  "language_info": {
   "codemirror_mode": {
    "name": "ipython",
    "version": 3
   },
   "file_extension": ".py",
   "mimetype": "text/x-python",
   "name": "python",
   "nbconvert_exporter": "python",
   "pygments_lexer": "ipython3",
   "version": "3.10.8"
  }
 },
 "nbformat": 4,
 "nbformat_minor": 5
}
